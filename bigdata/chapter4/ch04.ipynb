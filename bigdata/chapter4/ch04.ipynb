{
 "cells": [
  {
   "cell_type": "markdown",
   "metadata": {},
   "source": [
    "### ndarray 다루기(1)"
   ]
  },
  {
   "cell_type": "code",
   "execution_count": 17,
   "metadata": {},
   "outputs": [],
   "source": [
    "import numpy as np"
   ]
  },
  {
   "cell_type": "markdown",
   "metadata": {},
   "source": [
    "#### 데이터 벡터 x를 만드시오"
   ]
  },
  {
   "cell_type": "code",
   "execution_count": 18,
   "metadata": {},
   "outputs": [],
   "source": [
    "x = np.array([[2,3,5,6,7,10]])"
   ]
  },
  {
   "cell_type": "code",
   "execution_count": 19,
   "metadata": {},
   "outputs": [
    {
     "data": {
      "text/plain": [
       "array([[ 2,  3,  5,  6,  7, 10]])"
      ]
     },
     "execution_count": 19,
     "metadata": {},
     "output_type": "execute_result"
    }
   ],
   "source": [
    "x"
   ]
  },
  {
   "cell_type": "markdown",
   "metadata": {},
   "source": [
    "#### 각 데이터의 제곱으로 구성된 벡터 x2를 만드시오"
   ]
  },
  {
   "cell_type": "code",
   "execution_count": 20,
   "metadata": {},
   "outputs": [],
   "source": [
    "x2 = x ** 2"
   ]
  },
  {
   "cell_type": "code",
   "execution_count": 21,
   "metadata": {},
   "outputs": [
    {
     "data": {
      "text/plain": [
       "array([[  4,   9,  25,  36,  49, 100]], dtype=int32)"
      ]
     },
     "execution_count": 21,
     "metadata": {},
     "output_type": "execute_result"
    }
   ],
   "source": [
    "x2"
   ]
  },
  {
   "cell_type": "markdown",
   "metadata": {},
   "source": [
    "#### 각 데이터의 제곱의 합을 구하시오"
   ]
  },
  {
   "cell_type": "code",
   "execution_count": 22,
   "metadata": {},
   "outputs": [
    {
     "data": {
      "text/plain": [
       "223"
      ]
     },
     "execution_count": 22,
     "metadata": {},
     "output_type": "execute_result"
    }
   ],
   "source": [
    "np.sum(x2)"
   ]
  },
  {
   "cell_type": "markdown",
   "metadata": {},
   "source": [
    "#### 각 데이터에서 2를 뺀 값을 구하시오"
   ]
  },
  {
   "cell_type": "code",
   "execution_count": 23,
   "metadata": {},
   "outputs": [
    {
     "data": {
      "text/plain": [
       "array([[0, 1, 3, 4, 5, 8]])"
      ]
     },
     "execution_count": 23,
     "metadata": {},
     "output_type": "execute_result"
    }
   ],
   "source": [
    "x-2"
   ]
  },
  {
   "cell_type": "markdown",
   "metadata": {},
   "source": [
    "#### 최대값과 최소값을 구하시오"
   ]
  },
  {
   "cell_type": "code",
   "execution_count": 24,
   "metadata": {},
   "outputs": [
    {
     "data": {
      "text/plain": [
       "10"
      ]
     },
     "execution_count": 24,
     "metadata": {},
     "output_type": "execute_result"
    }
   ],
   "source": [
    "np.max(x)"
   ]
  },
  {
   "cell_type": "code",
   "execution_count": 25,
   "metadata": {},
   "outputs": [
    {
     "data": {
      "text/plain": [
       "2"
      ]
     },
     "execution_count": 25,
     "metadata": {},
     "output_type": "execute_result"
    }
   ],
   "source": [
    "np.min(x)"
   ]
  },
  {
   "cell_type": "markdown",
   "metadata": {},
   "source": [
    "#### 5보다 큰 값들로만 구성된 데이터 벡터 x_up을 만드시오"
   ]
  },
  {
   "cell_type": "code",
   "execution_count": 26,
   "metadata": {},
   "outputs": [
    {
     "data": {
      "text/plain": [
       "array([[ 6,  7, 10]])"
      ]
     },
     "execution_count": 26,
     "metadata": {},
     "output_type": "execute_result"
    }
   ],
   "source": [
    "x_up = np.array([x[x>5]])\n",
    "x_up"
   ]
  },
  {
   "cell_type": "markdown",
   "metadata": {},
   "source": [
    "#### 벡터 x의 길이를 구하시오"
   ]
  },
  {
   "cell_type": "code",
   "execution_count": 27,
   "metadata": {},
   "outputs": [
    {
     "data": {
      "text/plain": [
       "14.933184523068078"
      ]
     },
     "execution_count": 27,
     "metadata": {},
     "output_type": "execute_result"
    }
   ],
   "source": [
    "np.sqrt(x2.sum())"
   ]
  },
  {
   "cell_type": "markdown",
   "metadata": {},
   "source": [
    "#### x'x를 구하시오 (x'는 x의 전치)"
   ]
  },
  {
   "cell_type": "code",
   "execution_count": 28,
   "metadata": {},
   "outputs": [
    {
     "data": {
      "text/plain": [
       "array([[  4,   6,  10,  12,  14,  20],\n",
       "       [  6,   9,  15,  18,  21,  30],\n",
       "       [ 10,  15,  25,  30,  35,  50],\n",
       "       [ 12,  18,  30,  36,  42,  60],\n",
       "       [ 14,  21,  35,  42,  49,  70],\n",
       "       [ 20,  30,  50,  60,  70, 100]])"
      ]
     },
     "execution_count": 28,
     "metadata": {},
     "output_type": "execute_result"
    }
   ],
   "source": [
    "np.transpose(x) * x #혹은 np.transpose(x) ==  x.T"
   ]
  },
  {
   "cell_type": "markdown",
   "metadata": {},
   "source": [
    "#### xx'를 구하시오"
   ]
  },
  {
   "cell_type": "code",
   "execution_count": 29,
   "metadata": {},
   "outputs": [
    {
     "data": {
      "text/plain": [
       "array([[  4,   6,  10,  12,  14,  20],\n",
       "       [  6,   9,  15,  18,  21,  30],\n",
       "       [ 10,  15,  25,  30,  35,  50],\n",
       "       [ 12,  18,  30,  36,  42,  60],\n",
       "       [ 14,  21,  35,  42,  49,  70],\n",
       "       [ 20,  30,  50,  60,  70, 100]])"
      ]
     },
     "execution_count": 29,
     "metadata": {},
     "output_type": "execute_result"
    }
   ],
   "source": [
    "x * np.transpose(x)"
   ]
  },
  {
   "cell_type": "markdown",
   "metadata": {},
   "source": [
    "#### 벡터 x와 x2를 열결합(column bind)하여 xc에 저장하시오"
   ]
  },
  {
   "cell_type": "code",
   "execution_count": 30,
   "metadata": {},
   "outputs": [
    {
     "data": {
      "text/plain": [
       "array([[  2,   3,   5,   6,   7,  10,   4,   9,  25,  36,  49, 100]])"
      ]
     },
     "execution_count": 30,
     "metadata": {},
     "output_type": "execute_result"
    }
   ],
   "source": [
    "xc = np.concatenate((x,x2),axis=1)  #axis=1 열결합\n",
    "xc"
   ]
  },
  {
   "cell_type": "markdown",
   "metadata": {},
   "source": [
    "#### 벡터 x와 x2를 행결합(row bind)하여 xr에 저장하시오"
   ]
  },
  {
   "cell_type": "code",
   "execution_count": 31,
   "metadata": {},
   "outputs": [
    {
     "data": {
      "text/plain": [
       "array([[  2,   3,   5,   6,   7,  10],\n",
       "       [  4,   9,  25,  36,  49, 100]])"
      ]
     },
     "execution_count": 31,
     "metadata": {},
     "output_type": "execute_result"
    }
   ],
   "source": [
    "xr = np.concatenate((x,x2),axis=0) #axis=0 행결합\n",
    "xr"
   ]
  },
  {
   "cell_type": "markdown",
   "metadata": {},
   "source": [
    "### ndarray 다루기(2)"
   ]
  },
  {
   "cell_type": "markdown",
   "metadata": {},
   "source": [
    "#### 표준정규분포를 따르는 난수 100개를 가진 배열 x를 만드시오"
   ]
  },
  {
   "cell_type": "code",
   "execution_count": 32,
   "metadata": {},
   "outputs": [
    {
     "data": {
      "text/plain": [
       "array([-0.71430895, -0.23974313,  0.60716002,  0.94302096,  0.76642462,\n",
       "        0.91541648,  0.28285685, -0.69731957, -0.17444962, -1.2311783 ,\n",
       "        0.49755329,  0.93683972, -0.3004443 ,  0.12501309,  0.20788602,\n",
       "       -0.26174184, -1.76571791,  0.02542729,  0.87068846,  0.3388034 ,\n",
       "       -0.44157324,  1.7779346 , -0.9836166 , -0.5378077 ,  1.25179847,\n",
       "        2.12493943, -0.21471271,  2.31038151,  0.29773259,  1.13745601,\n",
       "       -0.13340282, -1.36981919,  0.31618954,  1.0308909 ,  0.02529046,\n",
       "        0.7617647 ,  1.44957032,  0.45998618, -0.53407702, -2.43384237,\n",
       "        1.27320406, -1.71179137,  1.14460412,  0.46600967, -1.02509755,\n",
       "        0.00314568,  0.55316768,  0.33949406,  1.34635428,  0.53985139,\n",
       "       -0.46118376,  0.11778314,  0.29920947, -0.28915858, -0.71590925,\n",
       "       -1.72267235, -2.10340934, -0.48830527, -1.81423861,  0.05064499,\n",
       "       -0.20989235,  0.69661246,  0.38378781,  1.28537878, -0.99035849,\n",
       "        0.19618723,  0.78483782, -2.63332046,  1.34636993,  0.55382131,\n",
       "        1.08334837, -0.60879255, -0.14443317, -0.70650631,  0.34380742,\n",
       "       -0.34143028,  1.75928274, -0.35457513, -1.73938025,  0.32882683,\n",
       "        0.08036624,  0.33121339, -1.74980317,  0.28420643,  0.22803124,\n",
       "       -0.40068375,  0.62450902,  0.51631946,  0.68896142,  2.13609484,\n",
       "       -0.29347978,  1.1679124 , -1.22637656,  0.1126992 , -0.40669594,\n",
       "        0.87984081, -0.24352997,  1.00024418,  0.54834308, -0.77001923])"
      ]
     },
     "execution_count": 32,
     "metadata": {},
     "output_type": "execute_result"
    }
   ],
   "source": [
    "x = np.random.randn(100)\n",
    "x"
   ]
  },
  {
   "cell_type": "markdown",
   "metadata": {},
   "source": [
    "#### x에서 값이 0.2보다 큰 원소들을 골라내시오"
   ]
  },
  {
   "cell_type": "code",
   "execution_count": 33,
   "metadata": {},
   "outputs": [
    {
     "data": {
      "text/plain": [
       "array([0.60716002, 0.94302096, 0.76642462, 0.91541648, 0.28285685,\n",
       "       0.49755329, 0.93683972, 0.20788602, 0.87068846, 0.3388034 ,\n",
       "       1.7779346 , 1.25179847, 2.12493943, 2.31038151, 0.29773259,\n",
       "       1.13745601, 0.31618954, 1.0308909 , 0.7617647 , 1.44957032,\n",
       "       0.45998618, 1.27320406, 1.14460412, 0.46600967, 0.55316768,\n",
       "       0.33949406, 1.34635428, 0.53985139, 0.29920947, 0.69661246,\n",
       "       0.38378781, 1.28537878, 0.78483782, 1.34636993, 0.55382131,\n",
       "       1.08334837, 0.34380742, 1.75928274, 0.32882683, 0.33121339,\n",
       "       0.28420643, 0.22803124, 0.62450902, 0.51631946, 0.68896142,\n",
       "       2.13609484, 1.1679124 , 0.87984081, 1.00024418, 0.54834308])"
      ]
     },
     "execution_count": 33,
     "metadata": {},
     "output_type": "execute_result"
    }
   ],
   "source": [
    "# np.where(x > 0.2,x,False) #이렇게 하던가\n",
    "e = x[x>0.2]\n",
    "e"
   ]
  },
  {
   "cell_type": "markdown",
   "metadata": {},
   "source": [
    "### 선형방정식 풀기(해 구하기)"
   ]
  },
  {
   "cell_type": "markdown",
   "metadata": {},
   "source": [
    "#### 다음과 같은 방정식이 있다. "
   ]
  },
  {
   "cell_type": "markdown",
   "metadata": {},
   "source": [
    "#### 3x + 6y - 5z = 12x - 3y + 2z = -25x - y + 4z = 10"
   ]
  },
  {
   "cell_type": "markdown",
   "metadata": {},
   "source": [
    "#### 위 식을 numpy를 이용해서 Ax=B 형태로 나타내시오(A와 B만 생성)"
   ]
  },
  {
   "cell_type": "code",
   "execution_count": 34,
   "metadata": {},
   "outputs": [],
   "source": [
    "A = np.array([[3,6,-5],[12,-3,2],[-25,-1,4]])\n",
    "B = np.array([[10],[10],[10]])"
   ]
  },
  {
   "cell_type": "code",
   "execution_count": 35,
   "metadata": {},
   "outputs": [
    {
     "data": {
      "text/plain": [
       "array([[  3,   6,  -5],\n",
       "       [ 12,  -3,   2],\n",
       "       [-25,  -1,   4]])"
      ]
     },
     "execution_count": 35,
     "metadata": {},
     "output_type": "execute_result"
    }
   ],
   "source": [
    "A"
   ]
  },
  {
   "cell_type": "code",
   "execution_count": 36,
   "metadata": {},
   "outputs": [
    {
     "data": {
      "text/plain": [
       "array([[10],\n",
       "       [10],\n",
       "       [10]])"
      ]
     },
     "execution_count": 36,
     "metadata": {},
     "output_type": "execute_result"
    }
   ],
   "source": [
    "B"
   ]
  },
  {
   "cell_type": "markdown",
   "metadata": {},
   "source": [
    "#### A의 역행렬을 구하시오"
   ]
  },
  {
   "cell_type": "code",
   "execution_count": 37,
   "metadata": {},
   "outputs": [
    {
     "data": {
      "text/plain": [
       "array([[0.05464481, 0.10382514, 0.01639344],\n",
       "       [0.53551913, 0.61748634, 0.36065574],\n",
       "       [0.47540984, 0.80327869, 0.44262295]])"
      ]
     },
     "execution_count": 37,
     "metadata": {},
     "output_type": "execute_result"
    }
   ],
   "source": [
    "np.linalg.inv(A)"
   ]
  },
  {
   "cell_type": "markdown",
   "metadata": {},
   "source": [
    "#### 방정식의 해 벡터 x를 구하시오"
   ]
  },
  {
   "cell_type": "code",
   "execution_count": 38,
   "metadata": {},
   "outputs": [
    {
     "data": {
      "text/plain": [
       "array([[ 1.74863388],\n",
       "       [15.13661202],\n",
       "       [17.21311475]])"
      ]
     },
     "execution_count": 38,
     "metadata": {},
     "output_type": "execute_result"
    }
   ],
   "source": [
    "np.linalg.solve(A,B)"
   ]
  },
  {
   "cell_type": "code",
   "execution_count": null,
   "metadata": {},
   "outputs": [],
   "source": []
  }
 ],
 "metadata": {
  "kernelspec": {
   "display_name": "Python 3",
   "language": "python",
   "name": "python3"
  },
  "language_info": {
   "codemirror_mode": {
    "name": "ipython",
    "version": 3
   },
   "file_extension": ".py",
   "mimetype": "text/x-python",
   "name": "python",
   "nbconvert_exporter": "python",
   "pygments_lexer": "ipython3",
   "version": "3.6.4"
  }
 },
 "nbformat": 4,
 "nbformat_minor": 2
}
