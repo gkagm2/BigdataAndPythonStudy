{
 "cells": [
  {
   "cell_type": "markdown",
   "metadata": {},
   "source": [
    "### ndarray 다루기(1)"
   ]
  },
  {
   "cell_type": "code",
   "execution_count": 2,
   "metadata": {},
   "outputs": [],
   "source": [
    "import numpy as np"
   ]
  },
  {
   "cell_type": "markdown",
   "metadata": {},
   "source": [
    "#### 데이터 벡터 x를 만드시오"
   ]
  },
  {
   "cell_type": "code",
   "execution_count": 3,
   "metadata": {},
   "outputs": [],
   "source": [
    "x = np.array([[2,3,5,6,7,10]])"
   ]
  },
  {
   "cell_type": "code",
   "execution_count": 4,
   "metadata": {},
   "outputs": [
    {
     "data": {
      "text/plain": [
       "array([[ 2,  3,  5,  6,  7, 10]])"
      ]
     },
     "execution_count": 4,
     "metadata": {},
     "output_type": "execute_result"
    }
   ],
   "source": [
    "x"
   ]
  },
  {
   "cell_type": "markdown",
   "metadata": {},
   "source": [
    "#### 각 데이터의 제곱으로 구성된 벡터 x2를 만드시오"
   ]
  },
  {
   "cell_type": "code",
   "execution_count": 5,
   "metadata": {},
   "outputs": [],
   "source": [
    "x2 = x ** 2"
   ]
  },
  {
   "cell_type": "code",
   "execution_count": 6,
   "metadata": {},
   "outputs": [
    {
     "data": {
      "text/plain": [
       "array([[  4,   9,  25,  36,  49, 100]], dtype=int32)"
      ]
     },
     "execution_count": 6,
     "metadata": {},
     "output_type": "execute_result"
    }
   ],
   "source": [
    "x2"
   ]
  },
  {
   "cell_type": "markdown",
   "metadata": {},
   "source": [
    "#### 각 데이터의 제곱의 합을 구하시오"
   ]
  },
  {
   "cell_type": "code",
   "execution_count": 7,
   "metadata": {},
   "outputs": [],
   "source": [
    "sum =0\n",
    "for i in x2[0]:\n",
    "    sum += i\n",
    "    "
   ]
  },
  {
   "cell_type": "code",
   "execution_count": 8,
   "metadata": {},
   "outputs": [
    {
     "data": {
      "text/plain": [
       "223"
      ]
     },
     "execution_count": 8,
     "metadata": {},
     "output_type": "execute_result"
    }
   ],
   "source": [
    "sum"
   ]
  },
  {
   "cell_type": "markdown",
   "metadata": {},
   "source": [
    "#### 각 데이터에서 2를 뺀 값을 구하시오"
   ]
  },
  {
   "cell_type": "code",
   "execution_count": 9,
   "metadata": {},
   "outputs": [
    {
     "data": {
      "text/plain": [
       "array([[0, 1, 3, 4, 5, 8]])"
      ]
     },
     "execution_count": 9,
     "metadata": {},
     "output_type": "execute_result"
    }
   ],
   "source": [
    "x-2"
   ]
  },
  {
   "cell_type": "markdown",
   "metadata": {},
   "source": [
    "#### 최대값과 최소값을 구하시오"
   ]
  },
  {
   "cell_type": "code",
   "execution_count": 10,
   "metadata": {},
   "outputs": [
    {
     "data": {
      "text/plain": [
       "10"
      ]
     },
     "execution_count": 10,
     "metadata": {},
     "output_type": "execute_result"
    }
   ],
   "source": [
    "max(x[0]) # 최대값"
   ]
  },
  {
   "cell_type": "code",
   "execution_count": 11,
   "metadata": {},
   "outputs": [
    {
     "data": {
      "text/plain": [
       "2"
      ]
     },
     "execution_count": 11,
     "metadata": {},
     "output_type": "execute_result"
    }
   ],
   "source": [
    "min(x[0]) # 최소값"
   ]
  },
  {
   "cell_type": "markdown",
   "metadata": {},
   "source": [
    "#### 5보다 큰 값들로만 구성된 데이터 벡터 x_up을 만드시오"
   ]
  },
  {
   "cell_type": "code",
   "execution_count": 12,
   "metadata": {},
   "outputs": [
    {
     "data": {
      "text/plain": [
       "array([ 6,  7, 10])"
      ]
     },
     "execution_count": 12,
     "metadata": {},
     "output_type": "execute_result"
    }
   ],
   "source": [
    "x_up = x[x > 5]\n",
    "x_up"
   ]
  },
  {
   "cell_type": "markdown",
   "metadata": {},
   "source": [
    "#### 벡터 x의 길이를 구하시오"
   ]
  },
  {
   "cell_type": "code",
   "execution_count": 13,
   "metadata": {},
   "outputs": [
    {
     "data": {
      "text/plain": [
       "6"
      ]
     },
     "execution_count": 13,
     "metadata": {},
     "output_type": "execute_result"
    }
   ],
   "source": [
    "len(x[0])"
   ]
  },
  {
   "cell_type": "markdown",
   "metadata": {},
   "source": [
    "#### x'x를 구하시오 (x'는 x의 전치)"
   ]
  },
  {
   "cell_type": "code",
   "execution_count": 14,
   "metadata": {},
   "outputs": [
    {
     "data": {
      "text/plain": [
       "array([[  4,   6,  10,  12,  14,  20],\n",
       "       [  6,   9,  15,  18,  21,  30],\n",
       "       [ 10,  15,  25,  30,  35,  50],\n",
       "       [ 12,  18,  30,  36,  42,  60],\n",
       "       [ 14,  21,  35,  42,  49,  70],\n",
       "       [ 20,  30,  50,  60,  70, 100]])"
      ]
     },
     "execution_count": 14,
     "metadata": {},
     "output_type": "execute_result"
    }
   ],
   "source": [
    "np.transpose(x) * x"
   ]
  },
  {
   "cell_type": "markdown",
   "metadata": {},
   "source": [
    "#### xx'를 구하시오"
   ]
  },
  {
   "cell_type": "code",
   "execution_count": 15,
   "metadata": {},
   "outputs": [
    {
     "data": {
      "text/plain": [
       "array([[  4,   6,  10,  12,  14,  20],\n",
       "       [  6,   9,  15,  18,  21,  30],\n",
       "       [ 10,  15,  25,  30,  35,  50],\n",
       "       [ 12,  18,  30,  36,  42,  60],\n",
       "       [ 14,  21,  35,  42,  49,  70],\n",
       "       [ 20,  30,  50,  60,  70, 100]])"
      ]
     },
     "execution_count": 15,
     "metadata": {},
     "output_type": "execute_result"
    }
   ],
   "source": [
    "x * np.transpose(x)"
   ]
  },
  {
   "cell_type": "markdown",
   "metadata": {},
   "source": [
    "#### 벡터 x와 x2를 열결합(column bind)하여 xc에 저장하시오"
   ]
  },
  {
   "cell_type": "code",
   "execution_count": 16,
   "metadata": {},
   "outputs": [
    {
     "data": {
      "text/plain": [
       "array([[  2,   3,   5,   6,   7,  10,   4,   9,  25,  36,  49, 100]])"
      ]
     },
     "execution_count": 16,
     "metadata": {},
     "output_type": "execute_result"
    }
   ],
   "source": [
    "xc = np.concatenate((x,x2),axis=1)  #axis=1 열결합\n",
    "xc"
   ]
  },
  {
   "cell_type": "markdown",
   "metadata": {},
   "source": [
    "#### 벡터 x와 x2를 행결합(row bind)하여 xr에 저장하시오"
   ]
  },
  {
   "cell_type": "code",
   "execution_count": 17,
   "metadata": {},
   "outputs": [
    {
     "data": {
      "text/plain": [
       "array([[  2,   3,   5,   6,   7,  10],\n",
       "       [  4,   9,  25,  36,  49, 100]])"
      ]
     },
     "execution_count": 17,
     "metadata": {},
     "output_type": "execute_result"
    }
   ],
   "source": [
    "xr = np.concatenate((x,x2),axis=0) #axis=0 행결합\n",
    "xr"
   ]
  },
  {
   "cell_type": "markdown",
   "metadata": {},
   "source": [
    "### ndarray 다루기(2)"
   ]
  },
  {
   "cell_type": "markdown",
   "metadata": {},
   "source": [
    "#### 표준정규분포를 따르는 난수 100개를 가진 배열 x를 만드시오"
   ]
  },
  {
   "cell_type": "code",
   "execution_count": 18,
   "metadata": {},
   "outputs": [
    {
     "data": {
      "text/plain": [
       "array([-5.29946089e-01,  1.26823946e+00,  1.10811286e+00, -5.18751328e-02,\n",
       "        1.31912840e+00,  3.70701869e-01,  7.74634987e-01, -1.96964776e-01,\n",
       "       -5.90395993e-01, -1.53017154e+00,  2.24673120e-01,  2.30268015e+00,\n",
       "       -2.06504044e+00,  4.61607314e-01,  9.80253990e-01,  1.17672788e+00,\n",
       "       -5.32284214e-01, -1.00339695e+00, -6.68383778e-02, -7.64607919e-01,\n",
       "       -8.89740924e-01, -1.26157740e+00, -1.55972502e-01, -1.20902567e+00,\n",
       "        1.29717993e-01,  8.63041288e-01, -1.62244544e+00,  1.60829554e-01,\n",
       "        1.23938399e-01,  2.60692047e-01, -8.76661087e-01,  8.88774093e-01,\n",
       "        1.06699364e+00, -7.17173839e-01,  1.61007618e+00, -1.21302287e+00,\n",
       "        7.09469890e-01, -3.37231274e-01,  1.21706611e+00, -1.30793913e+00,\n",
       "        3.38779165e-01, -6.26350074e-01,  5.54836392e-01, -8.33679531e-01,\n",
       "       -1.66737776e+00,  5.99600423e-02,  2.52763214e+00, -7.84633126e-03,\n",
       "       -1.74229010e+00, -2.42819618e-01, -1.77730638e+00,  7.65856083e-01,\n",
       "       -1.57158633e+00,  2.11446658e+00,  5.21525238e-01, -1.78249533e-01,\n",
       "        1.09377834e+00, -1.33963159e+00,  6.29384566e-01, -1.78811478e-01,\n",
       "       -6.32993267e-01,  5.61889452e-01,  1.22669535e+00, -7.88469577e-02,\n",
       "       -1.41588871e+00,  5.78005178e-01,  8.77928369e-01, -1.29425544e+00,\n",
       "       -1.87115976e+00, -1.52740620e+00,  2.54896275e-01, -1.65491857e+00,\n",
       "       -4.51007548e-01,  1.47557388e+00, -1.22203605e-02, -1.67415353e-03,\n",
       "        3.40082054e-01, -1.52853506e+00,  6.89285482e-01,  1.10752719e-01,\n",
       "        9.72524208e-01, -9.42379119e-01,  1.25590454e+00,  4.00345144e-01,\n",
       "        1.86713107e+00,  7.91840604e-01, -2.27517841e+00,  1.32596263e+00,\n",
       "       -5.32875721e-01, -2.18830352e+00, -7.38857402e-01,  1.46913427e-01,\n",
       "       -1.22411945e+00, -3.13848005e-01,  5.64888032e-01, -7.46272758e-01,\n",
       "        1.13281960e+00, -2.49883890e+00, -1.32714207e+00, -4.81519068e-01])"
      ]
     },
     "execution_count": 18,
     "metadata": {},
     "output_type": "execute_result"
    }
   ],
   "source": [
    "x = np.random.randn(100)\n",
    "x"
   ]
  },
  {
   "cell_type": "markdown",
   "metadata": {},
   "source": [
    "#### x에서 값이 0.2보다 큰 원소들을 골라내시오"
   ]
  },
  {
   "cell_type": "code",
   "execution_count": 21,
   "metadata": {},
   "outputs": [
    {
     "data": {
      "text/plain": [
       "array([1.26823946, 1.10811286, 1.3191284 , 0.37070187, 0.77463499,\n",
       "       0.22467312, 2.30268015, 0.46160731, 0.98025399, 1.17672788,\n",
       "       0.86304129, 0.26069205, 0.88877409, 1.06699364, 1.61007618,\n",
       "       0.70946989, 1.21706611, 0.33877917, 0.55483639, 2.52763214,\n",
       "       0.76585608, 2.11446658, 0.52152524, 1.09377834, 0.62938457,\n",
       "       0.56188945, 1.22669535, 0.57800518, 0.87792837, 0.25489628,\n",
       "       1.47557388, 0.34008205, 0.68928548, 0.97252421, 1.25590454,\n",
       "       0.40034514, 1.86713107, 0.7918406 , 1.32596263, 0.56488803,\n",
       "       1.1328196 ])"
      ]
     },
     "execution_count": 21,
     "metadata": {},
     "output_type": "execute_result"
    }
   ],
   "source": [
    "np.where(x > 0.2,x,False) #이렇게 하던가\n",
    "e = x[x>0.2]\n",
    "e"
   ]
  },
  {
   "cell_type": "markdown",
   "metadata": {},
   "source": [
    "### 선형방정식 풀기(해 구하기)"
   ]
  },
  {
   "cell_type": "markdown",
   "metadata": {},
   "source": [
    "#### 다음과 같은 방정식이 있다. "
   ]
  },
  {
   "cell_type": "markdown",
   "metadata": {},
   "source": [
    "#### 3x + 6y - 5z = 12x - 3y + 2z = -25x - y + 4z = 10"
   ]
  },
  {
   "cell_type": "markdown",
   "metadata": {},
   "source": [
    "#### 위 식을 numpy를 이용해서 Ax=B 형태로 나타내시오(A와 B만 생성)"
   ]
  },
  {
   "cell_type": "code",
   "execution_count": 22,
   "metadata": {},
   "outputs": [],
   "source": [
    "A = np.array([[3,6,-5],[12,-3,2],[-25,-1,4]])\n",
    "B = np.array([[10],[10],[10]])"
   ]
  },
  {
   "cell_type": "code",
   "execution_count": 23,
   "metadata": {},
   "outputs": [
    {
     "data": {
      "text/plain": [
       "array([[  3,   6,  -5],\n",
       "       [ 12,  -3,   2],\n",
       "       [-25,  -1,   4]])"
      ]
     },
     "execution_count": 23,
     "metadata": {},
     "output_type": "execute_result"
    }
   ],
   "source": [
    "A"
   ]
  },
  {
   "cell_type": "code",
   "execution_count": 24,
   "metadata": {},
   "outputs": [
    {
     "data": {
      "text/plain": [
       "array([[10],\n",
       "       [10],\n",
       "       [10]])"
      ]
     },
     "execution_count": 24,
     "metadata": {},
     "output_type": "execute_result"
    }
   ],
   "source": [
    "B"
   ]
  },
  {
   "cell_type": "markdown",
   "metadata": {},
   "source": [
    "#### A의 역행렬을 구하시오"
   ]
  },
  {
   "cell_type": "code",
   "execution_count": 25,
   "metadata": {},
   "outputs": [
    {
     "data": {
      "text/plain": [
       "array([[0.05464481, 0.10382514, 0.01639344],\n",
       "       [0.53551913, 0.61748634, 0.36065574],\n",
       "       [0.47540984, 0.80327869, 0.44262295]])"
      ]
     },
     "execution_count": 25,
     "metadata": {},
     "output_type": "execute_result"
    }
   ],
   "source": [
    "np.linalg.inv(A)"
   ]
  },
  {
   "cell_type": "markdown",
   "metadata": {},
   "source": [
    "#### 방정식의 해 벡터 x를 구하시오"
   ]
  },
  {
   "cell_type": "code",
   "execution_count": 26,
   "metadata": {},
   "outputs": [
    {
     "data": {
      "text/plain": [
       "array([[ 1.74863388],\n",
       "       [15.13661202],\n",
       "       [17.21311475]])"
      ]
     },
     "execution_count": 26,
     "metadata": {},
     "output_type": "execute_result"
    }
   ],
   "source": [
    "np.linalg.solve(A,B)"
   ]
  },
  {
   "cell_type": "code",
   "execution_count": null,
   "metadata": {},
   "outputs": [],
   "source": []
  },
  {
   "cell_type": "code",
   "execution_count": null,
   "metadata": {},
   "outputs": [],
   "source": []
  }
 ],
 "metadata": {
  "kernelspec": {
   "display_name": "Python 3",
   "language": "python",
   "name": "python3"
  },
  "language_info": {
   "codemirror_mode": {
    "name": "ipython",
    "version": 3
   },
   "file_extension": ".py",
   "mimetype": "text/x-python",
   "name": "python",
   "nbconvert_exporter": "python",
   "pygments_lexer": "ipython3",
   "version": "3.6.4"
  }
 },
 "nbformat": 4,
 "nbformat_minor": 2
}
